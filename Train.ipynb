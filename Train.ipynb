{
 "cells": [
  {
   "cell_type": "code",
   "execution_count": null,
   "metadata": {
    "id": "biKHMZZJ3hIh"
   },
   "outputs": [],
   "source": [
    "!pip install catalyst==20.10.1"
   ]
  },
  {
   "cell_type": "code",
   "execution_count": null,
   "metadata": {
    "id": "SVqGip8-9j7f"
   },
   "outputs": [],
   "source": [
    "!pip install dists-pytorch\n",
    "# for colab need to change sys.prefix to '/usr/local'"
   ]
  },
  {
   "cell_type": "code",
   "execution_count": null,
   "metadata": {
    "id": "o4qfDePAvBqb"
   },
   "outputs": [],
   "source": [
    "import os\n",
    "import sys\n",
    "import random\n",
    "from typing import Optional, Tuple, Callable\n",
    "\n",
    "import cv2\n",
    "import torch\n",
    "import torch.nn as nn\n",
    "import torch.nn.functional as F\n",
    "from torch.utils.data import Dataset, DataLoader\n",
    "\n",
    "import functools\n",
    "\n",
    "import catalyst\n",
    "from catalyst import dl, utils\n",
    "\n",
    "from DISTS_pytorch import DISTS\n",
    "\n",
    "from tqdm.notebook import tqdm"
   ]
  },
  {
   "cell_type": "code",
   "execution_count": null,
   "metadata": {
    "id": "t9GRkTQi_WeF"
   },
   "outputs": [],
   "source": [
    "import numpy\n",
    "numpy.random.seed(123)\n",
    "import random\n",
    "random.seed(123)\n",
    "torch.backends.cudnn.deterministic = True\n",
    "torch.manual_seed(123)\n",
    "torch.cuda.manual_seed(123)"
   ]
  },
  {
   "cell_type": "code",
   "execution_count": 1,
   "metadata": {},
   "outputs": [],
   "source": [
    "from core import SRDataset, InferDataset, ResidualDenseBlock_5C, RRDB, RRDBNet\n",
    "from utilities import make_layer, init_weights, make_submission"
   ]
  },
  {
   "cell_type": "code",
   "execution_count": null,
   "metadata": {
    "colab": {
     "base_uri": "https://localhost:8080/"
    },
    "id": "oMO9Ue2A387Q",
    "outputId": "925279da-c34f-404c-e016-11154b37c474"
   },
   "outputs": [
    {
     "name": "stdout",
     "output_type": "stream",
     "text": [
      "Drive already mounted at /gdrive; to attempt to forcibly remount, call drive.mount(\"/gdrive\", force_remount=True).\n"
     ]
    }
   ],
   "source": [
    "# from google.colab import drive\n",
    "# drive.mount('/gdrive')"
   ]
  },
  {
   "cell_type": "code",
   "execution_count": null,
   "metadata": {
    "id": "aAYfRCWQwk6A"
   },
   "outputs": [],
   "source": [
    "lr_dir = '/gdrive/MyDrive/Deep_Learning/huawei_cup_final_2020/cleaned_train/LR' #path to cleaned train LR images\n",
    "hr_dir = '/gdrive/MyDrive/Deep_Learning/huawei_cup_final_2020/cleaned_train/HR' #path to cleaned train HR images"
   ]
  },
  {
   "cell_type": "code",
   "execution_count": null,
   "metadata": {
    "id": "s9x_i0p0ve57"
   },
   "outputs": [],
   "source": [
    "samples = []\n",
    "for name in os.listdir(lr_dir):\n",
    "    if not name.endswith(\".png\"):\n",
    "        continue\n",
    "    if not os.path.exists(os.path.join(hr_dir, name)):\n",
    "        raise RuntimeError(f\"File {name} does not exist in {hr_dir}\")\n",
    "    samples.append(name)"
   ]
  },
  {
   "cell_type": "code",
   "execution_count": null,
   "metadata": {
    "colab": {
     "base_uri": "https://localhost:8080/"
    },
    "id": "X19m_r-gycgp",
    "outputId": "160fd12f-8110-4e74-9c9a-2dd8c1204d12"
   },
   "outputs": [
    {
     "data": {
      "text/plain": [
       "343"
      ]
     },
     "execution_count": 11,
     "metadata": {
      "tags": []
     },
     "output_type": "execute_result"
    }
   ],
   "source": [
    "len(samples)"
   ]
  },
  {
   "cell_type": "code",
   "execution_count": null,
   "metadata": {
    "colab": {
     "base_uri": "https://localhost:8080/",
     "height": 35
    },
    "id": "jrD36nqQyclY",
    "outputId": "24d69b93-8f49-43bc-c567-40c88c2eeaeb"
   },
   "outputs": [
    {
     "data": {
      "application/vnd.google.colaboratory.intrinsic+json": {
       "type": "string"
      },
      "text/plain": [
       "'cuda'"
      ]
     },
     "execution_count": 12,
     "metadata": {
      "tags": []
     },
     "output_type": "execute_result"
    }
   ],
   "source": [
    "device = \"cuda\" if torch.cuda.is_available() else \"cpu\"\n",
    "device"
   ]
  },
  {
   "cell_type": "code",
   "execution_count": null,
   "metadata": {
    "colab": {
     "base_uri": "https://localhost:8080/"
    },
    "id": "uSj8Ftu96Ul6",
    "outputId": "8ce6e369-87ca-4e31-eb4c-b5b590f4478f"
   },
   "outputs": [
    {
     "name": "stdout",
     "output_type": "stream",
     "text": [
      "343 0\n"
     ]
    }
   ],
   "source": [
    "TRAIN_VALID_SPLIT = 1\n",
    "random.shuffle(samples)\n",
    "train_valid_split = int(TRAIN_VALID_SPLIT*len(samples))\n",
    "train_samples = samples[:train_valid_split]\n",
    "valid_samples = samples[train_valid_split:]\n",
    "print(len(train_samples), len(valid_samples))"
   ]
  },
  {
   "cell_type": "code",
   "execution_count": null,
   "metadata": {
    "id": "-WP8aUkz5UfZ"
   },
   "outputs": [],
   "source": [
    "train_dataset = SRDataset(hr_dir, lr_dir, train_samples, crop_size=64, length=8000)\n",
    "valid_dataset = SRDataset(hr_dir, lr_dir, valid_samples)"
   ]
  },
  {
   "cell_type": "code",
   "execution_count": null,
   "metadata": {
    "id": "GW0YmeQ-8bxq"
   },
   "outputs": [],
   "source": [
    "train_dataloader = DataLoader(train_dataset, batch_size=12, shuffle=True, drop_last=True)\n",
    "valid_dataloader = DataLoader(valid_dataset, batch_size=1, shuffle=False)\n",
    "loaders = {\"train\": train_dataloader, \"valid\": valid_dataloader}\n",
    "# loaders = {\"train\": train_dataloader} # without validation validation to make final result"
   ]
  },
  {
   "cell_type": "code",
   "execution_count": null,
   "metadata": {
    "id": "cE_iUIpeKbwn"
   },
   "outputs": [],
   "source": [
    "runner = dl.SupervisedRunner(\n",
    "    input_key=\"features\",\n",
    "    output_key=\"logits\",\n",
    "    input_target_key=\"targets\",\n",
    ")      "
   ]
  },
  {
   "cell_type": "code",
   "execution_count": null,
   "metadata": {
    "id": "OaVF-ldS5T0I"
   },
   "outputs": [],
   "source": [
    "model = RRDBNet(nb = 8).to(device)\n",
    "init_weights(model)"
   ]
  },
  {
   "cell_type": "code",
   "execution_count": null,
   "metadata": {
    "id": "t_7iPunk9Jwm"
   },
   "outputs": [],
   "source": [
    "criterion = functools.partial(DISTS().to(device), require_grad=True, batch_average=True)"
   ]
  },
  {
   "cell_type": "code",
   "execution_count": null,
   "metadata": {
    "id": "OvxPFZTMCkLL"
   },
   "outputs": [],
   "source": [
    "optimizer = torch.optim.Adam(model.parameters(), lr = 0.0008)\n",
    "scheduler = torch.optim.lr_scheduler.ExponentialLR(optimizer, 0.5, last_epoch=-1, verbose=False)"
   ]
  },
  {
   "cell_type": "code",
   "execution_count": null,
   "metadata": {
    "colab": {
     "base_uri": "https://localhost:8080/"
    },
    "id": "8O9sD0JTCkQd",
    "outputId": "47459e43-7d14-4c81-92f3-cf3299bba894"
   },
   "outputs": [
    {
     "name": "stdout",
     "output_type": "stream",
     "text": [
      "\r",
      "1/10 * Epoch (train):   0% 0/727 [00:00<?, ?it/s]"
     ]
    },
    {
     "name": "stderr",
     "output_type": "stream",
     "text": [
      "/usr/local/lib/python3.6/dist-packages/torch/nn/functional.py:3103: UserWarning:\n",
      "\n",
      "The default behavior for interpolate/upsample with float scale_factor changed in 1.6.0 to align with other frameworks/libraries, and now uses scale_factor directly, instead of relying on the computed output size. If you wish to restore the old behavior, please set recompute_scale_factor=True. See the documentation of nn.Upsample for details. \n",
      "\n"
     ]
    },
    {
     "name": "stdout",
     "output_type": "stream",
     "text": [
      "1/10 * Epoch (train): 100% 727/727 [49:28<00:00,  4.08s/it, loss=0.099]\n",
      "1/10 * Epoch (valid): 100% 727/727 [15:52<00:00,  1.31s/it, loss=0.096]\n",
      "[2020-12-18 02:39:14,054] \n",
      "1/10 * Epoch 1 (_base): lr=0.0002 | momentum=0.9000\n",
      "1/10 * Epoch 1 (train): loss=0.1125\n",
      "1/10 * Epoch 1 (valid): loss=0.1007\n",
      "2/10 * Epoch (train):   0% 0/727 [00:00<?, ?it/s]"
     ]
    },
    {
     "name": "stderr",
     "output_type": "stream",
     "text": [
      "/usr/local/lib/python3.6/dist-packages/torch/optim/lr_scheduler.py:449: UserWarning:\n",
      "\n",
      "To get the last learning rate computed by the scheduler, please use `get_last_lr()`.\n",
      "\n"
     ]
    },
    {
     "name": "stdout",
     "output_type": "stream",
     "text": [
      "2/10 * Epoch (train): 100% 727/727 [43:20<00:00,  3.58s/it, loss=0.104]\n",
      "2/10 * Epoch (valid): 100% 727/727 [16:06<00:00,  1.33s/it, loss=0.103]\n",
      "[2020-12-18 03:38:41,063] \n",
      "2/10 * Epoch 2 (_base): lr=0.0001 | momentum=0.9000\n",
      "2/10 * Epoch 2 (train): loss=0.0973\n",
      "2/10 * Epoch 2 (valid): loss=0.0948\n",
      "3/10 * Epoch (train): 100% 727/727 [43:40<00:00,  3.60s/it, loss=0.088]\n",
      "3/10 * Epoch (valid): 100% 727/727 [16:11<00:00,  1.34s/it, loss=0.086]\n",
      "[2020-12-18 04:38:33,408] \n",
      "3/10 * Epoch 3 (_base): lr=5.000e-05 | momentum=0.9000\n",
      "3/10 * Epoch 3 (train): loss=0.0923\n",
      "3/10 * Epoch 3 (valid): loss=0.0908\n",
      "4/10 * Epoch (train): 100% 727/727 [43:42<00:00,  3.61s/it, loss=0.098]\n",
      "4/10 * Epoch (valid): 100% 727/727 [16:14<00:00,  1.34s/it, loss=0.097]\n",
      "[2020-12-18 05:38:30,579] \n",
      "4/10 * Epoch 4 (_base): lr=2.500e-05 | momentum=0.9000\n",
      "4/10 * Epoch 4 (train): loss=0.0893\n",
      "4/10 * Epoch 4 (valid): loss=0.0884\n",
      "5/10 * Epoch (train): 100% 727/727 [43:41<00:00,  3.61s/it, loss=0.101]\n",
      "5/10 * Epoch (valid): 100% 727/727 [15:55<00:00,  1.31s/it, loss=0.101]\n",
      "[2020-12-18 06:38:07,181] \n",
      "5/10 * Epoch 5 (_base): lr=1.250e-05 | momentum=0.9000\n",
      "5/10 * Epoch 5 (train): loss=0.0863\n",
      "5/10 * Epoch 5 (valid): loss=0.0851\n",
      "6/10 * Epoch (train): 100% 727/727 [43:23<00:00,  3.58s/it, loss=0.085]\n",
      "6/10 * Epoch (valid): 100% 727/727 [15:54<00:00,  1.31s/it, loss=0.085]\n",
      "[2020-12-18 07:37:24,972] \n",
      "6/10 * Epoch 6 (_base): lr=6.250e-06 | momentum=0.9000\n",
      "6/10 * Epoch 6 (train): loss=0.0849\n",
      "6/10 * Epoch 6 (valid): loss=0.0842\n",
      "7/10 * Epoch (train): 100% 727/727 [43:13<00:00,  3.57s/it, loss=0.087]\n",
      "Early exiting\n",
      "7/10 * Epoch (valid):   1% 6/727 [00:09<16:10,  1.35s/it, loss=0.091]"
     ]
    }
   ],
   "source": [
    "runner.train(\n",
    "  model=model, \n",
    "  optimizer=optimizer,\n",
    "  criterion=criterion,\n",
    "  scheduler=scheduler,\n",
    "  loaders=loaders, \n",
    "  num_epochs=10,\n",
    "  verbose=True,\n",
    "  timeit=False,\n",
    "  callbacks={\n",
    "    \"criterion_dists\": dl.CriterionCallback(\n",
    "      input_key=\"targets\",\n",
    "      output_key=\"logits\",\n",
    "      prefix=\"loss\",\n",
    "    ),\n",
    "    \"optimizer\": dl.OptimizerCallback(\n",
    "      metric_key=\"loss\", \n",
    "      accumulation_steps=1,\n",
    "      grad_clip_params=None,\n",
    "    )\n",
    "  }\n",
    ")"
   ]
  },
  {
   "cell_type": "code",
   "execution_count": null,
   "metadata": {
    "id": "30I2CW7v1-Wl"
   },
   "outputs": [],
   "source": [
    "MODEL_CHECKPOINT_PATH = 'my_model.pth'"
   ]
  },
  {
   "cell_type": "code",
   "execution_count": null,
   "metadata": {
    "id": "Qh1qskp3zNG9"
   },
   "outputs": [],
   "source": [
    "torch.save(model.state_dict(), MODEL_CHECKPOINT_PATH)"
   ]
  }
 ],
 "metadata": {
  "accelerator": "GPU",
  "colab": {
   "collapsed_sections": [],
   "name": "Копия блокнота \"huawei_cup_final_2020_train (2).ipynb\"",
   "provenance": []
  },
  "kernelspec": {
   "display_name": "Python 3",
   "language": "python",
   "name": "python3"
  },
  "language_info": {
   "codemirror_mode": {
    "name": "ipython",
    "version": 3
   },
   "file_extension": ".py",
   "mimetype": "text/x-python",
   "name": "python",
   "nbconvert_exporter": "python",
   "pygments_lexer": "ipython3",
   "version": "3.8.5"
  },
  "widgets": {
   "application/vnd.jupyter.widget-state+json": {
    "14fd170958d841edb0f7de9379fceac3": {
     "model_module": "@jupyter-widgets/base",
     "model_name": "LayoutModel",
     "state": {
      "_model_module": "@jupyter-widgets/base",
      "_model_module_version": "1.2.0",
      "_model_name": "LayoutModel",
      "_view_count": null,
      "_view_module": "@jupyter-widgets/base",
      "_view_module_version": "1.2.0",
      "_view_name": "LayoutView",
      "align_content": null,
      "align_items": null,
      "align_self": null,
      "border": null,
      "bottom": null,
      "display": null,
      "flex": null,
      "flex_flow": null,
      "grid_area": null,
      "grid_auto_columns": null,
      "grid_auto_flow": null,
      "grid_auto_rows": null,
      "grid_column": null,
      "grid_gap": null,
      "grid_row": null,
      "grid_template_areas": null,
      "grid_template_columns": null,
      "grid_template_rows": null,
      "height": null,
      "justify_content": null,
      "justify_items": null,
      "left": null,
      "margin": null,
      "max_height": null,
      "max_width": null,
      "min_height": null,
      "min_width": null,
      "object_fit": null,
      "object_position": null,
      "order": null,
      "overflow": null,
      "overflow_x": null,
      "overflow_y": null,
      "padding": null,
      "right": null,
      "top": null,
      "visibility": null,
      "width": null
     }
    },
    "1af0b9ada046492e8fba0e20361a8745": {
     "model_module": "@jupyter-widgets/controls",
     "model_name": "HTMLModel",
     "state": {
      "_dom_classes": [],
      "_model_module": "@jupyter-widgets/controls",
      "_model_module_version": "1.5.0",
      "_model_name": "HTMLModel",
      "_view_count": null,
      "_view_module": "@jupyter-widgets/controls",
      "_view_module_version": "1.5.0",
      "_view_name": "HTMLView",
      "description": "",
      "description_tooltip": null,
      "layout": "IPY_MODEL_14fd170958d841edb0f7de9379fceac3",
      "placeholder": "​",
      "style": "IPY_MODEL_b86ee3a50f5d48f186f474ec0a8be298",
      "value": " 200/200 [21:55&lt;00:00,  6.58s/it]"
     }
    },
    "252ffa2dd6364e98b67e46b0ae6c1c50": {
     "model_module": "@jupyter-widgets/base",
     "model_name": "LayoutModel",
     "state": {
      "_model_module": "@jupyter-widgets/base",
      "_model_module_version": "1.2.0",
      "_model_name": "LayoutModel",
      "_view_count": null,
      "_view_module": "@jupyter-widgets/base",
      "_view_module_version": "1.2.0",
      "_view_name": "LayoutView",
      "align_content": null,
      "align_items": null,
      "align_self": null,
      "border": null,
      "bottom": null,
      "display": null,
      "flex": null,
      "flex_flow": null,
      "grid_area": null,
      "grid_auto_columns": null,
      "grid_auto_flow": null,
      "grid_auto_rows": null,
      "grid_column": null,
      "grid_gap": null,
      "grid_row": null,
      "grid_template_areas": null,
      "grid_template_columns": null,
      "grid_template_rows": null,
      "height": null,
      "justify_content": null,
      "justify_items": null,
      "left": null,
      "margin": null,
      "max_height": null,
      "max_width": null,
      "min_height": null,
      "min_width": null,
      "object_fit": null,
      "object_position": null,
      "order": null,
      "overflow": null,
      "overflow_x": null,
      "overflow_y": null,
      "padding": null,
      "right": null,
      "top": null,
      "visibility": null,
      "width": null
     }
    },
    "288da10809f649cba94dd9297af673ca": {
     "model_module": "@jupyter-widgets/base",
     "model_name": "LayoutModel",
     "state": {
      "_model_module": "@jupyter-widgets/base",
      "_model_module_version": "1.2.0",
      "_model_name": "LayoutModel",
      "_view_count": null,
      "_view_module": "@jupyter-widgets/base",
      "_view_module_version": "1.2.0",
      "_view_name": "LayoutView",
      "align_content": null,
      "align_items": null,
      "align_self": null,
      "border": null,
      "bottom": null,
      "display": null,
      "flex": null,
      "flex_flow": null,
      "grid_area": null,
      "grid_auto_columns": null,
      "grid_auto_flow": null,
      "grid_auto_rows": null,
      "grid_column": null,
      "grid_gap": null,
      "grid_row": null,
      "grid_template_areas": null,
      "grid_template_columns": null,
      "grid_template_rows": null,
      "height": null,
      "justify_content": null,
      "justify_items": null,
      "left": null,
      "margin": null,
      "max_height": null,
      "max_width": null,
      "min_height": null,
      "min_width": null,
      "object_fit": null,
      "object_position": null,
      "order": null,
      "overflow": null,
      "overflow_x": null,
      "overflow_y": null,
      "padding": null,
      "right": null,
      "top": null,
      "visibility": null,
      "width": null
     }
    },
    "91e0090dfb2b40a79f18b5dfab2bc713": {
     "model_module": "@jupyter-widgets/controls",
     "model_name": "HBoxModel",
     "state": {
      "_dom_classes": [],
      "_model_module": "@jupyter-widgets/controls",
      "_model_module_version": "1.5.0",
      "_model_name": "HBoxModel",
      "_view_count": null,
      "_view_module": "@jupyter-widgets/controls",
      "_view_module_version": "1.5.0",
      "_view_name": "HBoxView",
      "box_style": "",
      "children": [
       "IPY_MODEL_f746883a13bf4c9995af87c77962d115",
       "IPY_MODEL_1af0b9ada046492e8fba0e20361a8745"
      ],
      "layout": "IPY_MODEL_252ffa2dd6364e98b67e46b0ae6c1c50"
     }
    },
    "b86ee3a50f5d48f186f474ec0a8be298": {
     "model_module": "@jupyter-widgets/controls",
     "model_name": "DescriptionStyleModel",
     "state": {
      "_model_module": "@jupyter-widgets/controls",
      "_model_module_version": "1.5.0",
      "_model_name": "DescriptionStyleModel",
      "_view_count": null,
      "_view_module": "@jupyter-widgets/base",
      "_view_module_version": "1.2.0",
      "_view_name": "StyleView",
      "description_width": ""
     }
    },
    "f0490206a0eb4ff7aa404ce73e17f762": {
     "model_module": "@jupyter-widgets/controls",
     "model_name": "ProgressStyleModel",
     "state": {
      "_model_module": "@jupyter-widgets/controls",
      "_model_module_version": "1.5.0",
      "_model_name": "ProgressStyleModel",
      "_view_count": null,
      "_view_module": "@jupyter-widgets/base",
      "_view_module_version": "1.2.0",
      "_view_name": "StyleView",
      "bar_color": null,
      "description_width": "initial"
     }
    },
    "f746883a13bf4c9995af87c77962d115": {
     "model_module": "@jupyter-widgets/controls",
     "model_name": "FloatProgressModel",
     "state": {
      "_dom_classes": [],
      "_model_module": "@jupyter-widgets/controls",
      "_model_module_version": "1.5.0",
      "_model_name": "FloatProgressModel",
      "_view_count": null,
      "_view_module": "@jupyter-widgets/controls",
      "_view_module_version": "1.5.0",
      "_view_name": "ProgressView",
      "bar_style": "success",
      "description": "100%",
      "description_tooltip": null,
      "layout": "IPY_MODEL_288da10809f649cba94dd9297af673ca",
      "max": 200,
      "min": 0,
      "orientation": "horizontal",
      "style": "IPY_MODEL_f0490206a0eb4ff7aa404ce73e17f762",
      "value": 200
     }
    }
   }
  }
 },
 "nbformat": 4,
 "nbformat_minor": 1
}
